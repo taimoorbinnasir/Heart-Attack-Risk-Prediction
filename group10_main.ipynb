{
 "cells": [
  {
   "cell_type": "markdown",
   "metadata": {},
   "source": [
    "<h1>Heart Attack Risk Prediction</h1>\n",
    "\n",
    "This is where we'll start doing our project."
   ]
  }
 ],
 "metadata": {
  "language_info": {
   "name": "python"
  }
 },
 "nbformat": 4,
 "nbformat_minor": 2
}

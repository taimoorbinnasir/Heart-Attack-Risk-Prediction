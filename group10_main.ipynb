# This is where we'll be doing our project
